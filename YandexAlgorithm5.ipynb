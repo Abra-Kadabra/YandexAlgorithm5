{
 "cells": [
  {
   "cell_type": "markdown",
   "id": "230b55dd-b800-438c-92aa-8b97cd8265ca",
   "metadata": {},
   "source": [
    "# Тренировки по алгоритмам 5 от Яндекса\n",
    "\n",
    "https://yandex.ru/yaintern/algorithm-training\n",
    "\n",
    "https://contest.yandex.ru/contest/59540/enter/"
   ]
  },
  {
   "cell_type": "markdown",
   "id": "176a042c-8c74-420a-8cb7-bc38c286e4b2",
   "metadata": {},
   "source": [
    "# 1"
   ]
  },
  {
   "cell_type": "markdown",
   "id": "5ce374dc-9230-4c17-a237-5f1259a1db6e",
   "metadata": {},
   "source": [
    "### Покраска деревьев"
   ]
  },
  {
   "cell_type": "code",
   "execution_count": null,
   "id": "f1b13f8a-a627-47c6-90f6-df9126f3eb37",
   "metadata": {},
   "outputs": [],
   "source": [
    "def tree_painting(s1, d1, s2, d2):\n",
    "    p, v = s1, d1 # [int(i) for i in input().split()]\n",
    "    q, m = s2, d2 # [int(i) for i in input().split()]\n",
    "\n",
    "    v = v if v >=0 else 0\n",
    "    m = m if m >=0 else 0\n",
    "    \n",
    "    low1 = p - v \n",
    "    high1 = p + v\n",
    "    \n",
    "    low2 = q - m\n",
    "    high2 = q + m\n",
    "    \n",
    "    len1 = 2 * v + 1\n",
    "    len2 = 2 * m + 1\n",
    "    \n",
    "    print(f'Первый диапазон: {low1}:{p}:{high1} = {len1}')\n",
    "    print(f'Второй диапазон: {low2}:{q}:{high2} = {len2}') \n",
    "\n",
    "    # либо high1 лежит в диапазоне 2, либо high2 лежит в диапазоне 1\n",
    "    intersect = ((low1 <= high2) and (high1 >= high2)) or ((low2 <= high1) and (high2 >= high1)) \n",
    "    print(f'Пересечение: {intersect}')\n",
    "\n",
    "    absorbed = ((low2 <= low1) and (high2 >= high1)) or ((low1 <= low2) and (high1 >= high2))\n",
    "    print(f'Поглощение: {absorbed}')\n",
    "    \n",
    "    if not intersect:\n",
    "        ans = (len1 + len2)\n",
    "    elif absorbed:\n",
    "        ans = max(len1, len2)\n",
    "    else: # есть пересечение, но нет полного поглощения\n",
    "        ans = max(high1, high2) - min(low1, low2) + 1\n",
    "        print(f'Перечечение [{min(low1, low2)}:{max(high1, high2)}] {max(high1, high2) - min(low1, low2) + 1}')\n",
    "    print(ans)\n",
    "    print()\n",
    "    return ans"
   ]
  },
  {
   "cell_type": "code",
   "execution_count": null,
   "id": "ad1950ac-1eaf-4ca1-a054-163254e19465",
   "metadata": {},
   "outputs": [],
   "source": [
    "assert tree_painting(0, 7, 12, 5) == 25 # 25\n",
    "assert tree_painting(0, 1, 0, 0) == 3"
   ]
  },
  {
   "cell_type": "code",
   "execution_count": null,
   "id": "5433c8b8-12fb-470a-83c5-104b3ea0a585",
   "metadata": {},
   "outputs": [],
   "source": [
    "p, v = [int(i) for i in input().split()]\n",
    "q, m = [int(i) for i in input().split()]\n",
    "\n",
    "low1 = p - v \n",
    "high1 = p + v\n",
    "\n",
    "low2 = q - m\n",
    "high2 = q + m\n",
    "\n",
    "len1 = 2 * v + 1\n",
    "len2 = 2 * m + 1\n",
    "\n",
    "intersect = ((low1 <= high2) and (high1 >= high2)) or ((low2 <= high1) and (high2 >= high1)) \n",
    "absorbed = ((low2 <= low1) and (high2 >= high1)) or ((low1 <= low2) and (high1 >= high2))\n",
    "\n",
    "if absorbed:\n",
    "    print(max(len1, len2))\n",
    "elif intersect:\n",
    "    print(max(high1, high2) - min(low1, low2) + 1)\n",
    "else:\n",
    "    print(len1 + len2)"
   ]
  },
  {
   "cell_type": "markdown",
   "id": "65fefeb3-f383-4507-bb2e-ec5c52b4b965",
   "metadata": {},
   "source": [
    "### Футбольный комментатор"
   ]
  },
  {
   "cell_type": "code",
   "execution_count": null,
   "id": "767a957b-89fa-4084-bdec-998a702259f9",
   "metadata": {},
   "outputs": [],
   "source": [
    "def goal(first, second, is_first_home):\n",
    "    g1_1, g1_2 = [int(i) for i in first.split(':')] # [int(i) for i in input().split(':')]\n",
    "    g2_1, g2_2 = [int(i) for i in second.split(':')] # [int(i) for i in input().split(':')]\n",
    "    g2_home = is_first_home == 2 # int(input()) == 2\n",
    "\n",
    "    team1_goals = g1_1 + g2_1\n",
    "    team2_goals = g1_2 + g2_2\n",
    "    goal_diff = team2_goals - team1_goals\n",
    "\n",
    "    team1_guest_goals = g1_1 if g2_home else g2_1\n",
    "    team2_guest_goals = g2_2 if g2_home else g1_2\n",
    "\n",
    "    if goal_diff < 0:\n",
    "        ans = 0 \n",
    "    elif goal_diff == 0:\n",
    "        ans = 0 if team2_goals != 0 and team1_guest_goals > team2_guest_goals else 1\n",
    "    else:\n",
    "        ans = goal_diff\n",
    "        if team1_guest_goals + goal_diff * (not g2_home) <= team2_guest_goals:\n",
    "            ans += 1\n",
    "\n",
    "    # print(ans)\n",
    "    return ans"
   ]
  },
  {
   "cell_type": "code",
   "execution_count": null,
   "id": "f689a401-3d09-4bee-aee5-57dff341cf03",
   "metadata": {},
   "outputs": [],
   "source": [
    "assert goal('0:0', '0:0', 1) == 1 # 0:0 0:0\n",
    "assert goal('0:2', '0:3', 1) == 5 # 0:5 0:2\n",
    "assert goal('0:2', '0:3', 2) == 6 # 0:5 0:3\n",
    "\n",
    "assert goal('0:1', '1:0', 1) == 1 # 1:1 1:1\n",
    "assert goal('0:1', '1:0', 2) == 1 # 1:1 1:1\n",
    "\n",
    "assert goal('0:2', '1:0', 1) == 2 # 1:2 1:2\n",
    "assert goal('0:2', '1:0', 2) == 2 # 1:2 0:0\n",
    "\n",
    "assert goal('1:0', '1:2', 1) == 0 # 2:2 1:0\n",
    "\n",
    "assert goal('1:0', '0:2', 1) == 1 # 1:2 0:0\n",
    "assert goal('1:0', '0:2', 2) == 2 # 1:2 1:2\n",
    "\n",
    "assert goal('4:3', '0:3', 2) == 2 # 4:6 4:3"
   ]
  },
  {
   "cell_type": "code",
   "execution_count": null,
   "id": "0023ec5b-0714-497e-a6f7-cd100cb3b80d",
   "metadata": {},
   "outputs": [],
   "source": [
    "g1_1, g1_2 = [int(i) for i in input().split(':')]\n",
    "g2_1, g2_2 = [int(i) for i in input().split(':')]\n",
    "g1_home = int(input()) == 1\n",
    "\n",
    "team1_goals = g1_1 + g2_1\n",
    "team2_goals = g1_2 + g2_2\n",
    "goal_diff = team2_goals - team1_goals\n",
    "\n",
    "team1_guest_goals = g2_1 if g1_home else g1_1\n",
    "team2_guest_goals = g1_2 if g1_home else g2_2\n",
    "\n",
    "if goal_diff < 0:\n",
    "    ans = 0 \n",
    "elif goal_diff == 0:\n",
    "    ans = 0 if team2_goals != 0 and team1_guest_goals > team2_guest_goals else 1\n",
    "else:\n",
    "    ans = goal_diff\n",
    "    if team1_guest_goals + goal_diff * g1_home <= team2_guest_goals:\n",
    "        ans += 1\n",
    "\n",
    "print(ans)"
   ]
  },
  {
   "cell_type": "markdown",
   "id": "c4b5437b-9776-45b6-870d-f14c9fd3bb60",
   "metadata": {},
   "source": [
    "### Форматирование файла"
   ]
  },
  {
   "cell_type": "code",
   "execution_count": null,
   "id": "368c908e-e06c-41c1-a6d8-38e56ecaf82d",
   "metadata": {},
   "outputs": [],
   "source": [
    "def format_space():\n",
    "    n = 5 # int(input())\n",
    "    inp = [1, 4, 12, 9, 0]\n",
    "    press = 0\n",
    "    for i in range(n):\n",
    "        num = inp[i] #input()\n",
    "        press += num//4 # tab\n",
    "        if num%4 == 3:\n",
    "            press += 2\n",
    "        else:\n",
    "            press += num%4\n",
    "    print(press)\n",
    "        "
   ]
  },
  {
   "cell_type": "code",
   "execution_count": null,
   "id": "cbae36a9-654f-4742-864c-e16bf0719289",
   "metadata": {},
   "outputs": [],
   "source": [
    "format_space()"
   ]
  },
  {
   "cell_type": "code",
   "execution_count": null,
   "id": "b481c461-0e4c-4f70-8937-9fee78b94568",
   "metadata": {},
   "outputs": [],
   "source": [
    "presses = 0\n",
    "for _ in range(int(input())):\n",
    "    spaces = int(input())\n",
    "    presses += spaces//4\n",
    "    remainder = spaces % 4\n",
    "    if remainder == 3:\n",
    "        presses += 2\n",
    "    else:\n",
    "        presses += remainder\n",
    "print(presses)"
   ]
  },
  {
   "cell_type": "markdown",
   "id": "46c9b2db-afc7-4c31-a1e5-4c5baa8ae547",
   "metadata": {},
   "source": [
    "### Слоны и ладьи"
   ]
  },
  {
   "cell_type": "code",
   "execution_count": null,
   "id": "4e8fe3bf-84d9-49cc-a3cb-bad6d9710668",
   "metadata": {},
   "outputs": [],
   "source": [
    "def chess_space(board):\n",
    "    field = []\n",
    "    for row in range(8):\n",
    "        field.append(board[row].strip())\n",
    "\n",
    "    def check_cell(y, x):\n",
    "        if field[y][x] in ['R', 'B']:\n",
    "            return 1\n",
    "        field[y] = field[y][:x] + '-' + field[y][x+1:]\n",
    "        return 0\n",
    "\n",
    "    def bishop_path(y, x):\n",
    "        cy, cx = y-1, x-1\n",
    "        while cy >= 0 and cx >= 0 and check_cell(cy, cx) == 0:\n",
    "            cy, cx = cy-1, cx-1\n",
    "        cy, cx = y-1, x+1\n",
    "        while cy >= 0 and cx <= 7 and check_cell(cy, cx) == 0:\n",
    "            cy, cx = cy-1, cx+1\n",
    "        cy, cx = y+1, x+1\n",
    "        while cy <= 7 and cx <= 7 and check_cell(cy, cx) == 0:\n",
    "            cy, cx = cy+1, cx+1\n",
    "        cy, cx = y+1, x-1\n",
    "        while cy <= 7 and cx >= 0 and check_cell(cy, cx) == 0:\n",
    "            cy, cx = cy+1, cx-1\n",
    "\n",
    "    def rook_path(y, x):\n",
    "        cy, cx = y-1, x\n",
    "        while cy >= 0 and check_cell(cy, cx) == 0:\n",
    "            cy -= 1\n",
    "        cy, cx = y+1, x\n",
    "        while cy <= 7 and check_cell(cy, cx) == 0:\n",
    "            cy += 1\n",
    "        cy, cx = y, x-1\n",
    "        while cx >= 0 and check_cell(cy, cx) == 0:\n",
    "            cx -= 1\n",
    "        cy, cx = y, x+1\n",
    "        while cx <= 7 and check_cell(cy, cx) == 0:\n",
    "            cx += 1\n",
    "    \n",
    "    for i, row in enumerate(field):\n",
    "        for j, cell in enumerate(row):\n",
    "            if cell == 'R':\n",
    "                rook_path(i, j)\n",
    "            if cell == 'B':\n",
    "                bishop_path(i, j)\n",
    "            \n",
    "\n",
    "    for row in field:\n",
    "        print(row)\n",
    "    print(sum(cell == '*' for row in field for cell in row))\n",
    "    return sum(cell == '*' for row in field for cell in row)"
   ]
  },
  {
   "cell_type": "code",
   "execution_count": null,
   "id": "e415e96b-ef63-4bb3-b2c2-ed828a7fce36",
   "metadata": {},
   "outputs": [],
   "source": [
    "chess_a = [\n",
    "    '********',\n",
    "    '********',\n",
    "    '*R******',\n",
    "    '********',\n",
    "    '********',\n",
    "    '********',\n",
    "    '********',\n",
    "    '********'\n",
    "]\n",
    "\n",
    "chess_c = [\n",
    "    '********',\n",
    "    '*R******',\n",
    "    '********',\n",
    "    '*****B**',\n",
    "    '********',\n",
    "    '********',\n",
    "    '********',\n",
    "    '********'\n",
    "]\n",
    "\n",
    "assert chess_space(chess_a) == 49\n",
    "assert chess_space(chess_c) == 40"
   ]
  },
  {
   "cell_type": "code",
   "execution_count": null,
   "id": "587b91fb-95bb-44c5-a8e9-1affdbd4180a",
   "metadata": {},
   "outputs": [],
   "source": [
    "field = []\n",
    "for row in range(8):\n",
    "    field.append(input().strip())\n",
    "\n",
    "def check_cell(y, x):\n",
    "    if field[y][x] in ['R', 'B']:\n",
    "        return 1\n",
    "    field[y] = field[y][:x] + '-' + field[y][x+1:]\n",
    "    return 0\n",
    "\n",
    "def bishop_path(x, y):\n",
    "    cy, cx = y-1, x-1\n",
    "    while cy >= 0 and cx >= 0 and check_cell(cy, cx) == 0:\n",
    "        cy, cx = cy-1, cx-1\n",
    "    cy, cx = y-1, x+1\n",
    "    while cy >= 0 and cx <= 7 and check_cell(cy, cx) == 0:\n",
    "        cy, cx = cy-1, cx+1\n",
    "    cy, cx = y+1, x+1\n",
    "    while cy <= 7 and cx <= 7 and check_cell(cy, cx) == 0:\n",
    "        cy, cx = cy+1, cx+1\n",
    "    cy, cx = y+1, x-1\n",
    "    while cy <= 7 and cx >= 0 and check_cell(cy, cx) == 0:\n",
    "        cy, cx = cy+1, cx-1\n",
    "\n",
    "def rook_path(x, y):\n",
    "    cy, cx = y-1, x\n",
    "    while cy >= 0 and check_cell(cy, cx) == 0:\n",
    "        cy -= 1\n",
    "    cy, cx = y+1, x\n",
    "    while cy <= 7 and check_cell(cy, cx) == 0:\n",
    "        cy += 1\n",
    "    cy, cx = y, x-1\n",
    "    while cx >= 0 and check_cell(cy, cx) == 0:\n",
    "        cx -= 1\n",
    "    cy, cx = y, x+1\n",
    "    while cx <= 7 and check_cell(cy, cx) == 0:\n",
    "        cx += 1\n",
    "\n",
    "for i, row in enumerate(field):\n",
    "    for j, cell in enumerate(row):\n",
    "        if cell == 'R':\n",
    "            rook_path(j, i)\n",
    "        if cell == 'B':\n",
    "            bishop_path(j, i)\n",
    "\n",
    "print(sum(cell == '*' for row in field for cell in row))"
   ]
  },
  {
   "cell_type": "markdown",
   "id": "183496c6-c08e-4273-a7e6-421cde2bdd40",
   "metadata": {},
   "source": [
    "### Прибыльный стартап"
   ]
  },
  {
   "cell_type": "code",
   "execution_count": null,
   "id": "ad09ad5c-5e68-449b-8331-724e8b0e9a67",
   "metadata": {},
   "outputs": [],
   "source": [
    "def ukulele(n, k, d):\n",
    "    res = n\n",
    "    for i in range(d):\n",
    "        found = False\n",
    "        for c in range(10):\n",
    "            attempt = res*10 + c\n",
    "            if attempt % k == 0:\n",
    "                if c == 0:\n",
    "                    return str(res) + '0' * (d - i)\n",
    "                res = attempt\n",
    "                found = True\n",
    "                break\n",
    "        if not found:\n",
    "            res = -1\n",
    "            break\n",
    "    return res"
   ]
  },
  {
   "cell_type": "code",
   "execution_count": null,
   "id": "b0ae5d00-5fce-4c57-8e2b-08b67ab50453",
   "metadata": {},
   "outputs": [],
   "source": [
    "assert ukulele(21, 108, 1) == 216\n",
    "assert ukulele(5, 12, 4) == -1\n",
    "ukulele(29420920, 98069736, 69929)\n",
    "ukulele(21, 108, 5)"
   ]
  },
  {
   "cell_type": "code",
   "execution_count": null,
   "id": "41d55c71-889e-4f91-92ca-c037cbbf19a5",
   "metadata": {},
   "outputs": [],
   "source": [
    "n, k, d = [int(i) for i in input().split()]\n",
    "\n",
    "def ukulele(n, k, d):\n",
    "    res = n\n",
    "    for i in range(d):\n",
    "        found = False\n",
    "        for c in range(10):\n",
    "            attempt = res*10 + c\n",
    "            if attempt % k == 0:\n",
    "                if c == 0:\n",
    "                    return str(res) + '0' * (d - i)\n",
    "                res = attempt\n",
    "                found = True\n",
    "                break\n",
    "        if not found:\n",
    "            res = -1\n",
    "            break\n",
    "    return res\n",
    "\n",
    "print(ukulele(n, k, d))"
   ]
  },
  {
   "cell_type": "markdown",
   "id": "f26ece5d-634d-4381-9ad0-d0687f857aed",
   "metadata": {},
   "source": [
    "### Миша и математика"
   ]
  },
  {
   "cell_type": "code",
   "execution_count": null,
   "id": "24d7ad67-a0a1-44e0-be83-8bb95b6290f2",
   "metadata": {},
   "outputs": [],
   "source": [
    "def misha_math(n, arr):\n",
    "    # n = int(input())\n",
    "    # arr = [int(i) for i in input().split()]\n",
    "\n",
    "    odds_odds = False\n",
    "    odd_id = -1\n",
    "    \n",
    "    for i, k in enumerate(arr):\n",
    "        if k % 2 == 1:\n",
    "            odds_odds = not odds_odds\n",
    "            if odd_id == -1:\n",
    "                odd_id = i\n",
    "\n",
    "    if odds_odds:\n",
    "        return '+' * (n - 1)\n",
    "    else:\n",
    "        return '+' * (odd_id) + 'x' + '+' * (n - odd_id - 2)"
   ]
  },
  {
   "cell_type": "code",
   "execution_count": null,
   "id": "db52b8ea-e6f7-466f-a381-e086c0827b15",
   "metadata": {},
   "outputs": [],
   "source": [
    "assert misha_math(3, [5,7,2]) == 'x+'\n",
    "assert misha_math(2, [4,-5]) == '+'\n",
    "assert misha_math(5, [5,7,1,11,17]) == '++++'\n",
    "assert misha_math(5, [5,6,12,11,17]) == '++++'\n",
    "assert misha_math(2, [5,7]) == 'x'\n",
    "assert misha_math(4, [5,7,3,1]) == 'x++'\n"
   ]
  },
  {
   "cell_type": "code",
   "execution_count": null,
   "id": "a804e75b-7351-428b-9226-2db9fbc2d693",
   "metadata": {},
   "outputs": [],
   "source": [
    "n = int(input())\n",
    "arr = [int(i) for i in input().split()]\n",
    "\n",
    "odds = 0\n",
    "odd_id = -1\n",
    "\n",
    "for i, k in enumerate(arr):\n",
    "    if k % 2 == 1:\n",
    "        odds += 1\n",
    "        if odd_id == -1:\n",
    "            odd_id = i\n",
    "\n",
    "if odds % 2 == 0:\n",
    "    print('+' * (odd_id) + 'x' + '+' * (n - odd_id - 2))\n",
    "else:\n",
    "    print('+' * (n - 1))"
   ]
  },
  {
   "cell_type": "markdown",
   "id": "5d9fa732-bc70-43d3-bb9d-2e7d0c5f4cf8",
   "metadata": {},
   "source": [
    "### Разрушить казарму"
   ]
  },
  {
   "cell_type": "code",
   "execution_count": null,
   "id": "9771c013-2921-4cdb-9650-eb974d5ade23",
   "metadata": {},
   "outputs": [],
   "source": [
    "def baracks_war(units, baracks, rate):\n",
    "    if units >= baracks:\n",
    "        return 1\n",
    "\n",
    "    enemy = 0\n",
    "    cycle = 1\n",
    "    baracks -= units\n",
    "    enemy += rate\n",
    "\n",
    "    def rush(units, baracks, enemy, rate, cycle):\n",
    "        attack = units\n",
    "        attack = max(0, attack - baracks)\n",
    "        baracks = max(0, baracks - units)\n",
    "        if attack > 0:\n",
    "            enemy = max(0, enemy - attack)\n",
    "        if enemy > 0:\n",
    "            if enemy >= units:\n",
    "                return -1\n",
    "            units -= enemy\n",
    "        if baracks > 0:\n",
    "            enemy += rate\n",
    "        if baracks + enemy > 0:\n",
    "            cycle += 1\n",
    "            return rush(units, baracks, enemy, rate, cycle)\n",
    "        else:\n",
    "            return cycle\n",
    "\n",
    "    def kill_cycle(units, baracks, enemy, rate):\n",
    "        attack = units\n",
    "        if units > enemy:\n",
    "            attack -= enemy\n",
    "            enemy = 0      \n",
    "        baracks = max(0, baracks - attack)\n",
    "        if baracks > 0:\n",
    "            enemy += rate\n",
    "        return units, baracks, enemy\n",
    "\n",
    "    wins = []\n",
    "    while units > 0 and baracks + enemy > 0:\n",
    "        cycle += 1\n",
    "        if (baracks + enemy) / units < 1.618: # спасибо чатику за заклинание! :]\n",
    "            res = rush(units, baracks, enemy, rate, cycle)\n",
    "            if res > 0:\n",
    "                wins.append(res)\n",
    "        if units <= enemy:\n",
    "            return rush(units, baracks, enemy, rate, cycle)\n",
    "\n",
    "        units, baracks, enemy = kill_cycle(units, baracks, enemy, rate)\n",
    "    \n",
    "    wins.append(cycle)\n",
    "    return min(wins)\n",
    "\n",
    "# print(baracks_war(int(input()), int(input()), int(input())))"
   ]
  },
  {
   "cell_type": "code",
   "execution_count": null,
   "id": "9af831ed-e0be-4128-b66f-eb287a700c59",
   "metadata": {},
   "outputs": [],
   "source": [
    "assert baracks_war(1, 2, 1) == -1\n",
    "assert baracks_war(1, 1, 1) == 1\n",
    "assert baracks_war(10, 11, 15) == 4\n",
    "assert baracks_war(25, 200, 10) == 13\n",
    "assert baracks_war(250, 500, 187) == 4\n",
    "assert baracks_war(250, 500, 218) == 6"
   ]
  },
  {
   "cell_type": "code",
   "execution_count": null,
   "id": "0a573fab-3757-4c75-b231-9c7c8170a22c",
   "metadata": {},
   "outputs": [],
   "source": [
    "baracks_war(250, 500, 218)"
   ]
  },
  {
   "cell_type": "markdown",
   "id": "e00ac642-d26e-4760-b1dd-cf4566f01dd2",
   "metadata": {},
   "source": [
    "### Расписание"
   ]
  },
  {
   "cell_type": "code",
   "execution_count": null,
   "id": "bf3dad4a-9501-4342-b70c-8868f32df8e6",
   "metadata": {},
   "outputs": [],
   "source": [
    "def minmax_freedays(n, year, holidays, start):\n",
    " \n",
    "    days = ['Monday', 'Tuesday', 'Wednesday', 'Thursday', 'Friday', 'Saturday', 'Sunday']\n",
    "    days_count = {'Monday': 52, 'Tuesday': 52, 'Wednesday': 52, 'Thursday': 52, 'Friday': 52, 'Saturday': 52, 'Sunday': 52}\n",
    "\n",
    "    months = ['January', 'February', 'March', 'April', 'May', 'June', 'July', 'August', 'September', 'October', 'November', 'December']\n",
    "    month_days = [31, 28, 31, 30, 31, 30, 31, 31, 30, 31, 30, 31]\n",
    "    if year % 400 == 0 or (year % 4 == 0 and year % 100 != 0):\n",
    "        month_days[1] = 29\n",
    "    days_in_year = sum(month_days)\n",
    "\n",
    "    for i in range(days_in_year % 7):\n",
    "        days_count[days[(days.index(start) + i) % len(days)]] += 1\n",
    "\n",
    "    for holiday in holidays:\n",
    "        d, m = holiday.split()\n",
    "        m = months.index(m)\n",
    "        d = int(d) + sum(month_days[:m])\n",
    "        d_of_week = days[(d + days.index(start) - 1) % 7]\n",
    "        days_count[d_of_week] -= 1\n",
    "\n",
    "    return f'{max(days_count, key=days_count.get)} {min(days_count, key=days_count.get)}'\n",
    "\n",
    "# n = int(input())\n",
    "# y = int(input())\n",
    "# h = []\n",
    "# for _ in range(n):\n",
    "#     h.append(input())\n",
    "# d = input()\n",
    "# print(minmax_freedays(n, y, h, d))"
   ]
  },
  {
   "cell_type": "code",
   "execution_count": null,
   "id": "43f72422-befd-45da-bff5-830c985a551e",
   "metadata": {},
   "outputs": [],
   "source": [
    "minmax_freedays(2, 2015, ['1 January', '8 January'], 'Thursday')"
   ]
  },
  {
   "cell_type": "code",
   "execution_count": null,
   "id": "dab23e13-40e9-4ac8-a418-e85f7ce561d9",
   "metadata": {},
   "outputs": [],
   "source": [
    "assert minmax_freedays(2, 2015, ['1 January', '8 January'], 'Thursday') == 'Monday Thursday'\n",
    "assert minmax_freedays(3, 2013, ['1 January', '8 January', '15 January'], 'Tuesday') == 'Monday Tuesday'\n",
    "assert minmax_freedays(3, 2013, ['6 February', '13 February', '20 February'], 'Tuesday') == 'Tuesday Wednesday'"
   ]
  },
  {
   "cell_type": "markdown",
   "id": "f57ad3d6-762c-4026-9d58-9d9d1bff73cf",
   "metadata": {},
   "source": [
    "# 2\n",
    "алгоритмы за линейное время"
   ]
  },
  {
   "cell_type": "markdown",
   "id": "abcda31f-397e-403e-b851-24e212116ef9",
   "metadata": {},
   "source": [
    "### Минимальный прямоугольник"
   ]
  },
  {
   "cell_type": "code",
   "execution_count": null,
   "id": "96ae0142-64a8-4078-9d68-52fb92976c6e",
   "metadata": {},
   "outputs": [],
   "source": [
    "def smallest_figure(k, arr):\n",
    "\n",
    "    right = 0\n",
    "    top = 0\n",
    "    left = 1000000000\n",
    "    bottom = 1000000000\n",
    "    \n",
    "    for i, coords in enumerate(arr):\n",
    "        x, y = [int(i) for i in coords.split()]\n",
    "        right = max(x, right)\n",
    "        top = max(y, top)\n",
    "        left = min(x, left)\n",
    "        bottom = min(y, bottom)\n",
    "\n",
    "    print(left, bottom, right, top)\n",
    "    return f'{left} {bottom} {right} {top}'\n",
    "\n",
    "# k = int(input())\n",
    "# arr = []\n",
    "# for _ in range(k):\n",
    "#     arr.append(input())\n",
    "# smallest_figure(k, arr)"
   ]
  },
  {
   "cell_type": "code",
   "execution_count": null,
   "id": "61bb3557-b4f2-49f8-9d90-d8e71c81efbf",
   "metadata": {},
   "outputs": [],
   "source": [
    "assert smallest_figure(4, ['1 3', '3 1', '3 5', '6 3']) == '1 1 6 5'"
   ]
  },
  {
   "cell_type": "markdown",
   "id": "e263c534-74fe-4dd9-bc4b-f1dcf493dd92",
   "metadata": {},
   "source": [
    "### Продавец рыбы"
   ]
  },
  {
   "cell_type": "code",
   "execution_count": null,
   "id": "e3c8fa04-93b7-466e-8f90-2499d77c0827",
   "metadata": {},
   "outputs": [],
   "source": [
    "def fish_trader(cond, prices):\n",
    "    n, fish_duration = [int(n) for n in cond.split()]\n",
    "    prices = [int(n) for n in prices.split()]\n",
    "    print(prices)\n",
    "\n",
    "    profit = {}\n",
    "    \n",
    "    for i, price in enumerate(prices):\n",
    "        if i not in profit:\n",
    "            profit[i] = 0\n",
    "        min_day_for_sale = min(i+1, n)\n",
    "        max_day_far_sale = min(i+1+fish_duration, n)\n",
    "        if min_day_for_sale != max_day_far_sale:\n",
    "            profit[i] = max(prices[min_day_for_sale:max_day_far_sale]) - price\n",
    "\n",
    "    print(max(profit.values()))\n",
    "    print(profit)\n",
    "    return max(profit.values())"
   ]
  },
  {
   "cell_type": "code",
   "execution_count": null,
   "id": "b7c720d2-7de2-49fa-a68d-9bcec2ced96d",
   "metadata": {},
   "outputs": [],
   "source": [
    "assert fish_trader('5 2', '1 2 3 4 5') == 2\n",
    "assert fish_trader('5 2', '5 4 3 2 1') == 0"
   ]
  },
  {
   "cell_type": "code",
   "execution_count": null,
   "id": "678ae13b-ad1c-4672-80d3-efd87c82d8e1",
   "metadata": {},
   "outputs": [],
   "source": [
    "def fish_trader(cond, prices):\n",
    "    n, fish_duration = [int(n) for n in cond.split()]\n",
    "    prices = [int(n) for n in prices.split()]\n",
    "    profit = {}\n",
    "    for i, price in enumerate(prices):\n",
    "        if i not in profit:\n",
    "            profit[i] = 0\n",
    "        min_day_for_sale = min(i+1, n)\n",
    "        max_day_far_sale = min(i+1+fish_duration, n)\n",
    "        if min_day_for_sale != max_day_far_sale:\n",
    "            profit[i] = max(prices[min_day_for_sale:max_day_far_sale]) - price\n",
    "\n",
    "    print(max(profit.values()))\n",
    "\n",
    "fish_trader(input(), input())"
   ]
  },
  {
   "cell_type": "markdown",
   "id": "1fa89918-f5bc-4ba1-900c-ca0f94341162",
   "metadata": {},
   "source": [
    "### Петя, Маша и верёвочки"
   ]
  },
  {
   "cell_type": "code",
   "execution_count": null,
   "id": "09829d39-e83a-4c46-899b-691c102c5ef0",
   "metadata": {},
   "outputs": [],
   "source": [
    "def two_ropes(n, lengths):\n",
    "    lengths = [int(n) for n in lengths.split()]\n",
    "    \n",
    "    max_len = 0\n",
    "    sum_len = 0\n",
    "    for i in lengths:\n",
    "        max_len = max(i, max_len)\n",
    "        sum_len += i\n",
    "\n",
    "    print(max_len, sum_len)\n",
    "    print(f'{sum_len if max_len * 2 <= sum_len else max_len * 2 - sum_len}')\n",
    "\n",
    "# two_ropes(input(), input())"
   ]
  },
  {
   "cell_type": "code",
   "execution_count": null,
   "id": "5650c72c-0ce7-489e-85db-fb007bfe75fe",
   "metadata": {},
   "outputs": [],
   "source": [
    "two_ropes(4, '1 5 2 1')\n",
    "two_ropes(4, '5 12 4 3')\n",
    "two_ropes(3, '3 4 5') # тест 6"
   ]
  },
  {
   "cell_type": "markdown",
   "id": "38853b2f-34b6-478b-92a0-b4272be6ca45",
   "metadata": {},
   "source": [
    "### Шахматная доска"
   ]
  },
  {
   "cell_type": "code",
   "execution_count": null,
   "id": "f7eca452-4854-43e4-b5ff-9a1f9bc67829",
   "metadata": {},
   "outputs": [],
   "source": [
    "def chess_perimetr(cells):\n",
    "    field = [[0 for col in range(10)] for row in range(10)]\n",
    "    for cell in cells:\n",
    "        y, x = [int(n) for n in cell.split()]\n",
    "        field[y][x] = 1\n",
    "\n",
    "    perimetr = 0\n",
    "    shifts = [(-1, 0), (1, 0), (0, -1), (0, 1)]\n",
    "    for y, row in enumerate(field):\n",
    "        for x, col in enumerate(row):\n",
    "            if col == 1:\n",
    "                for shift in shifts:\n",
    "                    if field[y + shift[0]][x + shift[1]] == 0:\n",
    "                        perimetr += 1\n",
    "\n",
    "    print(perimetr)\n",
    "    return perimetr\n",
    "\n",
    "arr = [input() for _ in range(int(input()))]\n",
    "chess_perimetr(arr)"
   ]
  },
  {
   "cell_type": "code",
   "execution_count": null,
   "id": "965108df-f940-4fea-aff8-fb5219d86a0f",
   "metadata": {},
   "outputs": [],
   "source": [
    "assert chess_perimetr(3, ['1 1', '1 2', '2 1']) == 8\n",
    "assert chess_perimetr(1, ['8 8']) == 4"
   ]
  },
  {
   "cell_type": "markdown",
   "id": "eee1bc84-fa14-4380-bfed-d9a1ea3366d6",
   "metadata": {},
   "source": [
    "### Амбициозная улитка"
   ]
  },
  {
   "cell_type": "code",
   "execution_count": null,
   "id": "ad3c23a9-818c-43c0-b016-993957814cc1",
   "metadata": {},
   "outputs": [],
   "source": [
    "def snail_climber(n, berries):\n",
    "    pos_berries = [] # (id, diff)\n",
    "    neg_berries = [] # id\n",
    "    best_pos = {'id': -1, 'up': -1, 'down': -1, 'diff': -1}\n",
    "    best_neg = {'id': -1, 'up': -1}\n",
    "\n",
    "    for i, berry in enumerate(berries):\n",
    "        up, down = [int(n) for n in berry.split()]\n",
    "        diff = up - down\n",
    "\n",
    "        if diff > 0:\n",
    "            pos_berries.append((i, diff))\n",
    "            new_record = best_pos['diff'] + up\n",
    "            old_record = diff + best_pos['up']\n",
    "            if new_record > old_record or (new_record == old_record and up > best_pos['up']):\n",
    "                best_pos = {'id': i, 'up': up, 'down': down, 'diff': diff}\n",
    "        else:\n",
    "            neg_berries.append(i)\n",
    "            if up > best_neg['up']:\n",
    "                best_neg = {'id': i, 'up': up}\n",
    "\n",
    "    last_negative = best_neg['up'] > best_pos['down']\n",
    "    last_berry = best_neg if last_negative else best_pos\n",
    "\n",
    "    height = 0\n",
    "    result = []\n",
    "    for pos in pos_berries:\n",
    "        if not last_negative and best_pos['id'] == pos[0]:\n",
    "            continue\n",
    "        result.append(pos[0])\n",
    "        height += pos[1]\n",
    "\n",
    "    result.append(last_berry['id'])\n",
    "    height += last_berry['up']\n",
    "    \n",
    "    for neg in neg_berries:\n",
    "        if last_negative and best_neg['id'] == neg:\n",
    "            continue\n",
    "        result.append(neg)\n",
    "\n",
    "    berries_seq = ' '.join(str(i+1) for i in result if i > -1)\n",
    "    print(height)\n",
    "    print(berries_seq)\n",
    "    \n",
    "    return (height, berries_seq)\n",
    "                \n",
    "                \n",
    "arr = [input() for _ in range(int(input()))]\n",
    "snail_climber(len(arr), arr)"
   ]
  },
  {
   "cell_type": "code",
   "execution_count": null,
   "id": "c6bc7d06-6f91-4326-8599-c08f644b4d7b",
   "metadata": {},
   "outputs": [],
   "source": [
    "assert snail_climber(3, ['1 5', '8 2', '4 4']) == (10, '2 3 1')\n",
    "assert snail_climber(2, ['7 6', '7 4']) == (10, '2 1')\n",
    "assert snail_climber(6, ['822889311 446755913', '715477619 181424399', '61020590 573085537', '480845266 448565595', '135599877 389312924', '160714711 449656269']) == (1391031884, '1 2 4 3 5 6')"
   ]
  },
  {
   "cell_type": "markdown",
   "id": "9a018749-1667-4bfd-a76f-6ebb02fd73f0",
   "metadata": {},
   "source": [
    "### Колесо Фортуны"
   ]
  },
  {
   "cell_type": "code",
   "execution_count": null,
   "id": "5cbc1694-22c9-4c67-a459-022449a4a392",
   "metadata": {},
   "outputs": [],
   "source": [
    "def fortune_wheel(l, values, params):\n",
    "    values = [int(n) for n in values.split()]\n",
    "    values_inverse = values[::-1]\n",
    "    min_v, max_v, delta_v = [int(n) for n in params.split()]\n",
    "\n",
    "    min_sectors = min_v // delta_v if min_v % delta_v > 0 else (min_v // delta_v) - 1\n",
    "    max_sectors = max_v // delta_v if max_v % delta_v > 0 else (max_v // delta_v) - 1\n",
    "    if max_sectors - min_sectors >= len(values):\n",
    "        max_sectors = len(values) + min_sectors \n",
    "    # print(f'Рассматриваем диапазон смещений на {min_sectors} - {max_sectors} сектора')\n",
    "\n",
    "    max_value = 0\n",
    "    for sector in range(min_sectors, max_sectors+1):\n",
    "        value = values[sector%len(values)]\n",
    "        value_inv = values_inverse[(-1+sector)%len(values)]\n",
    "        # print(f'Смещаемся на {sector} сектор (id: {sector%len(values)}): {value}, {value_inv}')\n",
    "        max_for_sector = max(value, value_inv)\n",
    "        max_value = max(max_value, max_for_sector)\n",
    "\n",
    "    print(max_value)\n",
    "    return max_value \n",
    "\n",
    "fortune_wheel(input(), input(), input())"
   ]
  },
  {
   "cell_type": "code",
   "execution_count": null,
   "id": "fbcf0332-015c-41bd-a138-ed379aa3f0fd",
   "metadata": {},
   "outputs": [],
   "source": [
    "assert fortune_wheel(5, '1 2 3 4 5', '3 5 2') == 5\n",
    "assert fortune_wheel(5, '1 2 3 4 5', '15 15 2') == 4\n",
    "assert fortune_wheel(5, '5 4 3 2 1', '2 5 2') == 5\n",
    "assert fortune_wheel(4, '744 43 468 382', '20 48 12') == 468\n",
    "assert fortune_wheel(6, '89 527 177 573 258 201', '25 28 708') == 89"
   ]
  },
  {
   "cell_type": "markdown",
   "id": "7def37cc-82ab-450a-a1ce-fe6a5d56cedf",
   "metadata": {},
   "source": [
    "### Ни больше ни меньше"
   ]
  },
  {
   "cell_type": "code",
   "execution_count": null,
   "id": "86558542-e125-40a3-849a-20db12610675",
   "metadata": {},
   "outputs": [],
   "source": [
    "def split_list(n, arr):\n",
    "    for a in arr:\n",
    "        res = []\n",
    "        lst = [int(n) for n in a[1].split()]\n",
    "        i = 0\n",
    "        while len(lst) > i:\n",
    "            max_len = lst[i]\n",
    "            curr_len = 1\n",
    "            i += 1\n",
    "            while curr_len < max_len and len(lst) > i and lst[i] > curr_len:\n",
    "                max_len = min(max_len, lst[i])\n",
    "                curr_len += 1\n",
    "                i += 1\n",
    "            res.append(curr_len)\n",
    "        print(len(res))\n",
    "        print(' '.join(str(r) for r in res))\n",
    "\n",
    "# arr = [[int(input()), input()] for i in range(int(input()))]\n",
    "# split_list(len(arr), arr)"
   ]
  },
  {
   "cell_type": "code",
   "execution_count": null,
   "id": "a525c23d-cc98-43ed-b7f5-a6d14b8ce1ce",
   "metadata": {},
   "outputs": [],
   "source": [
    "split_list(3, [[5, '1 3 3 3 2'], [16, '1 9 8 7 6 7 8 9 9 9 9 9 9 9 9 9'], [7, '7 2 3 4 3 2 7']]) # 3, '1 3 1', 3, '1 6 9', 3, '2 3 2'\n",
    "# split_list(10, [[9, '1 1 9 2 9 9 9 5 8'], [10, '10 9 9 10 3 4 1 8 2 7'], [10, '10 10 10 1 5 8 4 8 9 8'], [10, '1 3 10 4 6 4 3 7 6 10'], [10, '4 3 8 3 7 1 10 5 1 4'], [10, '5 2 5 5 10 10 10 1 6 3'], [10, '9 2 1 4 1 9 8 3 1 1'], [7, '4 1 6 4 7 1 7'], [2, '2 2'], [2, '1 2']]) #\n",
    "# split_list(2, [[10, '9 2 1 4 1 9 8 3 1 1'], [7, '4 1 6 4 7 1 7']]) # 2 1 1 1 3 1 1,    1 1 3 1 1"
   ]
  },
  {
   "cell_type": "markdown",
   "id": "e86e9e86-3b8b-4ea2-8d7e-f5ca652ef3f2",
   "metadata": {},
   "source": [
    "### Наилучший запрет"
   ]
  },
  {
   "cell_type": "code",
   "execution_count": null,
   "id": "5ad21c9f-e6f3-4b9c-bf6e-b96755b9c805",
   "metadata": {},
   "outputs": [],
   "source": [
    "def elves_war(y, x, data):\n",
    "\n",
    "    # returns max element of matrix with list of its coordinates\n",
    "    def get_max(matrix, skip_row, skip_col):\n",
    "        maximum = {'value': -1, 'ids': []}\n",
    "        for i, row in enumerate(matrix):\n",
    "            if i == skip_row:\n",
    "                continue\n",
    "            for j, col in enumerate(row):\n",
    "                if j == skip_col:\n",
    "                    continue\n",
    "                if col > maximum['value']:\n",
    "                    maximum = {'value': col, 'ids': [(i, j)]}\n",
    "                elif col == maximum['value']:\n",
    "                    if len(maximum['ids']) < 2:\n",
    "                        maximum['ids'].append((i, j))\n",
    "        return maximum\n",
    "\n",
    "    grab_row = -1\n",
    "    grab_col = -1\n",
    "    data_max = get_max(data, grab_row, grab_col)\n",
    "    coords_max = data_max['ids']\n",
    "    max1 = get_max(data, coords_max[0][0], grab_col)\n",
    "    max2 = get_max(data, grab_row, coords_max[0][1])\n",
    "    max3 = get_max(data, coords_max[0][0], max1['ids'][0][1])\n",
    "    max4 = get_max(data, max2['ids'][0][0], coords_max[0][1])\n",
    "    print(f\"{coords_max[0][0] + 1} {max1['ids'][0][1] + 1}\" if max3['value'] <= max4['value'] else f\"{max2['ids'][0][0] + 1} {coords_max[0][1] + 1}\")\n",
    "    \n",
    "# y, x = [int(i) for i in input().split()]\n",
    "# arr = [[int(j) for j in input().split()] for i in range(y)]\n",
    "# elves_war(y, x, arr)            "
   ]
  },
  {
   "cell_type": "code",
   "execution_count": null,
   "id": "d0094f60-3e70-4ccf-bd99-ab0b2a32d287",
   "metadata": {},
   "outputs": [],
   "source": [
    "# elves_war(2, 2, [[1, 2], [3, 4]]) # '2 2'\n",
    "# elves_war(3, 4, [[1, 3, 5, 7], [9, 11, 2, 4], [6, 8, 10,12]]) # '3 2'\n",
    "# elves_war(4, 3, [[6, 7, 2], [2, 8, 6], [9, 1, 8], [5, 8, 6]]) # '3 2' - тест 7\n",
    "elves_war(4, 3, [[6, 7, 2], [2, 8, 6], [9, 1, 7], [9, 5, 7]]) # \n",
    "elves_war(6, 4, [[1, 6, 4, 9], [3, 2, 7, 5], [3, 7, 5, 2], [8, 5, 1, 9], [1, 5, 3, 1], [4, 3, 7, 6]]) # '4 4'\n"
   ]
  },
  {
   "cell_type": "markdown",
   "id": "1ee376df-1dcc-41d6-93df-1a5b0218e05f",
   "metadata": {},
   "source": [
    "### Пираты Баренцева моря"
   ]
  },
  {
   "cell_type": "code",
   "execution_count": null,
   "id": "dc498783-7745-46e8-811c-ccf80442090e",
   "metadata": {},
   "outputs": [],
   "source": [
    "def col_pirates(n, ships):\n",
    "    ans = []\n",
    "    for col in range(1, n+1):\n",
    "\n",
    "        horisontal_moves = 0\n",
    "        vertical_moves = 0\n",
    "        \n",
    "        ship_rows = []\n",
    "        for i, ship in enumerate(ships):\n",
    "            horisontal_moves += abs(ship[1] - col)\n",
    "            ship_rows.append(ship[0])\n",
    "\n",
    "        for i, ship in enumerate(sorted(ship_rows)):\n",
    "            vertical_moves += abs(i+1 - ship)\n",
    "        ans.append(horisontal_moves + vertical_moves)\n",
    "\n",
    "    print(min(ans))     \n",
    "\n",
    "n = int(input())\n",
    "col_pirates(n, [[int(j) for j in input().split()] for i in range(n)])"
   ]
  },
  {
   "cell_type": "code",
   "execution_count": null,
   "id": "9e181356-40b5-4e6a-b714-21bea1573a9a",
   "metadata": {},
   "outputs": [],
   "source": [
    "col_pirates(3, [[1, 2], [3, 3], [1, 1]]) # 3\n",
    "col_pirates(5, [[1, 1], [2, 2], [3, 3], [4, 4], [5, 5]]) # 6 (test #9)\n",
    "col_pirates(10, [[4, 4], [10, 2], [5, 5], [5, 1], [1, 8], [9, 3], [9, 6], [8, 5], [1, 9], [4, 5]]) # 23"
   ]
  },
  {
   "cell_type": "markdown",
   "id": "8a96ccfb-2cb8-45cd-99c1-2b41f449f717",
   "metadata": {},
   "source": [
    "# 4\n",
    "Бинарный поиск"
   ]
  },
  {
   "cell_type": "markdown",
   "id": "59d74628-346e-4d0d-9628-4c2163123fcb",
   "metadata": {},
   "source": [
    "### Быстрый поиск в массиве"
   ]
  },
  {
   "cell_type": "code",
   "execution_count": null,
   "id": "28e071a8-0544-469c-b104-4f32753f06ec",
   "metadata": {},
   "outputs": [],
   "source": [
    "def quick_search(nums, reqs):\n",
    "    numbers = sorted(nums)\n",
    "    ans = []\n",
    "\n",
    "    def lbinsearch(seq, target):\n",
    "        l = 0\n",
    "        r = len(seq) - 1\n",
    "        while l < r:\n",
    "            m =  (l + r) // 2\n",
    "            if seq[m] >= target:\n",
    "                r = m\n",
    "            else:\n",
    "                l = m + 1\n",
    "        return l\n",
    "\n",
    "    def rbinsearch(seq, target):\n",
    "        l = 0\n",
    "        r = len(seq) - 1\n",
    "        while l < r:\n",
    "            m = (l + r + 1) // 2\n",
    "            if seq[m] <= target:\n",
    "                l = m\n",
    "            else:\n",
    "                r = m - 1\n",
    "        return l\n",
    "\n",
    "    for req in reqs:\n",
    "        if numbers[-1] < req[0] or numbers[0] > req[1]:\n",
    "            ans.append(0)\n",
    "        else:\n",
    "            b = lbinsearch(numbers, req[0])\n",
    "            c = rbinsearch(numbers, req[1])\n",
    "            ans.append(c-b+1)\n",
    "\n",
    "    print(*ans)\n",
    "\n",
    "n = int(input())\n",
    "nums = [int(i) for i in input().split()]\n",
    "reqs = [[int(j) for j in input().split()] for i in range(int(input()))]\n",
    "quick_search(nums, reqs)"
   ]
  },
  {
   "cell_type": "code",
   "execution_count": null,
   "id": "d6cb780c-42d1-45aa-81ba-4a83ea2bcfe1",
   "metadata": {},
   "outputs": [],
   "source": [
    "quick_search([10, 1, 10, 3, 4], [[1, 10], [2, 9], [3, 4], [2, 2]]) # 5 2 2 0 \n",
    "quick_search([1], [[1, 1], [-1000000000, -1000000000], [1000000000, 1000000000]]) # "
   ]
  },
  {
   "cell_type": "markdown",
   "id": "cdc68fd1-2ea7-4a95-926d-25967ba968ca",
   "metadata": {},
   "source": [
    "### Одномерный морской бой"
   ]
  },
  {
   "cell_type": "code",
   "execution_count": null,
   "id": "d6d3be74-faac-42d0-a332-ece614bd0bc0",
   "metadata": {},
   "outputs": [],
   "source": [
    "def flat_sea(field):\n",
    "\n",
    "    def check(field, k):\n",
    "        r = 0\n",
    "        for i in range(1, k+1):\n",
    "            r += int(i * (i + 1)  / 2)\n",
    "            if r > field or r + ((i * (i + 1)) // 2) - 1 > field:\n",
    "                return False\n",
    "        return True\n",
    "    \n",
    "    l = 0\n",
    "    r = field\n",
    "    while l < r:\n",
    "        m = (l + r + 1) // 2\n",
    "        if check(field, m):\n",
    "            l = m\n",
    "        else:\n",
    "            r = m - 1\n",
    "    print(l)\n",
    "    return l\n",
    "\n",
    "flat_sea(int(input()))"
   ]
  },
  {
   "cell_type": "code",
   "execution_count": null,
   "id": "4c7131ba-2924-483e-9938-83e263cc977f",
   "metadata": {},
   "outputs": [],
   "source": [
    "flat_sea(10000000000000)"
   ]
  },
  {
   "cell_type": "markdown",
   "id": "e0f2d5ae-d223-4124-b103-310ae66ebdde",
   "metadata": {},
   "source": [
    "### Саруман"
   ]
  },
  {
   "cell_type": "code",
   "execution_count": null,
   "id": "720cb6d0-1117-4482-9280-bc8bad8466cf",
   "metadata": {},
   "outputs": [],
   "source": [
    "def saruman(army, reqs):\n",
    "\n",
    "    def lbinsearch(armys, wide, n):\n",
    "        \n",
    "        def check(armys, id, wide, count):\n",
    "            if id+wide > len(armys):\n",
    "                return True\n",
    "            return armys[id+wide-1] - (armys[id-1] if id > 0 else 0) >= count\n",
    "        \n",
    "        left = 0\n",
    "        right = len(armys) - 1\n",
    "        while left < right:\n",
    "            middle = (left + right) // 2\n",
    "            if check(armys, middle, wide, n):\n",
    "                right = middle\n",
    "            else:\n",
    "                left = middle + 1\n",
    "        return left\n",
    "\n",
    "    armys = [army[0]]\n",
    "    for i in range(1, len(army)):\n",
    "        armys.append(armys[i-1] + army[i])\n",
    "\n",
    "    for req in reqs:\n",
    "        ans = lbinsearch(armys, req[0], req[1])\n",
    "        if armys[ans+req[0]-1] - (armys[ans-1] if ans > 0 else 0) == req[1]:\n",
    "            print(ans+1)\n",
    "        else:\n",
    "            print('-1')\n",
    "\n",
    "# _, m = [int(i) for i in input().split()]\n",
    "# army = [int(i) for i in input().split()]\n",
    "# reqs = [[int(j) for j in input().split()] for i in range(m)]\n",
    "# saruman(army, reqs)"
   ]
  },
  {
   "cell_type": "code",
   "execution_count": null,
   "id": "864f67e3-3b35-401b-a24b-fbd230309ef7",
   "metadata": {},
   "outputs": [],
   "source": [
    "# saruman([1,3,5,7,9], [[2,4], [1,3]]) # 1  2 # кол-во полков / суммарное количество в полках\n",
    "saruman([570703232,570703232,570703232,570703232,570703232], [[2, 687772523], [1, 570703232], [2, 1141406464], [3, 1712109696]]) # -1 1 1 1"
   ]
  }
 ],
 "metadata": {
  "kernelspec": {
   "display_name": "Python 3 (ipykernel)",
   "language": "python",
   "name": "python3"
  },
  "language_info": {
   "codemirror_mode": {
    "name": "ipython",
    "version": 3
   },
   "file_extension": ".py",
   "mimetype": "text/x-python",
   "name": "python",
   "nbconvert_exporter": "python",
   "pygments_lexer": "ipython3",
   "version": "3.11.7"
  }
 },
 "nbformat": 4,
 "nbformat_minor": 5
}
